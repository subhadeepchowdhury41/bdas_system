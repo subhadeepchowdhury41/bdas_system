{
 "cells": [
  {
   "cell_type": "code",
   "execution_count": 1,
   "metadata": {},
   "outputs": [],
   "source": [
    "import face_recognition\n",
    "\n",
    "# Load face images and encode them\n",
    "known_face_encodings = []\n",
    "known_face_names = []\n",
    "\n",
    "for person_name in ['modi', 'trump', 'subha']:\n",
    "    images = [f'persons/{person_name}/{i}.jpeg' for i in range(1, 6)]  # Assuming images are named 1.jpeg, 2.jpeg, ...\n",
    "    for image_path in images:\n",
    "        image = face_recognition.load_image_file(image_path)\n",
    "        encoding = face_recognition.face_encodings(image)[0]\n",
    "        known_face_encodings.append(encoding)\n",
    "        known_face_names.append(person_name)"
   ]
  },
  {
   "cell_type": "code",
   "execution_count": 2,
   "metadata": {},
   "outputs": [],
   "source": [
    "import cv2"
   ]
  },
  {
   "cell_type": "code",
   "execution_count": 3,
   "metadata": {},
   "outputs": [
    {
     "name": "stderr",
     "output_type": "stream",
     "text": [
      "qt.qpa.plugin: Could not find the Qt platform plugin \"wayland\" in \"/home/subha/Desktop/Projects/bdas_system/bdas/lib/python3.11/site-packages/cv2/qt/plugins\"\n"
     ]
    }
   ],
   "source": [
    "\n",
    "\n",
    "video_capture = cv2.VideoCapture(0)\n",
    "\n",
    "while True:\n",
    "    ret, frame = video_capture.read()\n",
    "    face_locations = face_recognition.face_locations(frame)\n",
    "    face_encodings = face_recognition.face_encodings(frame, face_locations)\n",
    "\n",
    "    for (top, right, bottom, left), face_encoding in zip(face_locations, face_encodings):\n",
    "        matches = face_recognition.compare_faces(known_face_encodings, face_encoding)\n",
    "        name = \"Unknown\"\n",
    "\n",
    "        if True in matches:\n",
    "            first_match_index = matches.index(True)\n",
    "            name = known_face_names[first_match_index]\n",
    "\n",
    "        cv2.rectangle(frame, (left, top), (right, bottom), (0, 0, 255), 2)\n",
    "        font = cv2.FONT_HERSHEY_DUPLEX\n",
    "        cv2.putText(frame, name, (left + 6, bottom - 6), font, 0.5, (255, 255, 255), 1)\n",
    "\n",
    "    cv2.imshow('Video', frame)\n",
    "\n",
    "    if cv2.waitKey(1) & 0xFF == ord('q'):\n",
    "        break\n",
    "\n",
    "video_capture.release()\n",
    "cv2.destroyAllWindows()"
   ]
  },
  {
   "cell_type": "code",
   "execution_count": 6,
   "metadata": {},
   "outputs": [
    {
     "name": "stdout",
     "output_type": "stream",
     "text": [
      "None\n"
     ]
    }
   ],
   "source": [
    "image = cv2.imread('persons/modi/1.jpeg')\n",
    "# cv2.imwrite('modi1.jpeg', image)\n",
    "print(image)"
   ]
  },
  {
   "cell_type": "code",
   "execution_count": 10,
   "metadata": {},
   "outputs": [
    {
     "name": "stdout",
     "output_type": "stream",
     "text": [
      "MD5 hash of the image: 68ae04815297730ae9cb106f62e58fa8\n"
     ]
    }
   ],
   "source": [
    "import hashlib\n",
    "\n",
    "def calculate_md5(filename):\n",
    "    hash_md5 = hashlib.md5()\n",
    "    with open(filename, \"rb\") as f:\n",
    "        for chunk in iter(lambda: f.read(4096), b\"\"):\n",
    "            hash_md5.update(chunk)\n",
    "    return hash_md5.hexdigest()\n",
    "\n",
    "# Replace 'example.jpg' with the actual path to your image file\n",
    "image_hash = calculate_md5('persons/modi/1.jpeg')\n",
    "\n",
    "print(\"MD5 hash of the image:\", image_hash)"
   ]
  },
  {
   "cell_type": "code",
   "execution_count": 13,
   "metadata": {},
   "outputs": [],
   "source": [
    "from cryptography.hazmat.primitives import padding\n",
    "from cryptography.hazmat.primitives.ciphers import Cipher, algorithms, modes\n",
    "from cryptography.hazmat.backends import default_backend\n",
    "from cryptography.hazmat.primitives import hashes\n",
    "from cryptography.hazmat.primitives.kdf.pbkdf2 import PBKDF2HMAC\n",
    "from base64 import urlsafe_b64encode, urlsafe_b64decode\n",
    "\n",
    "def generate_key_from_password(password, salt):\n",
    "    kdf = PBKDF2HMAC(\n",
    "        algorithm=hashes.SHA256(),\n",
    "        iterations=100000,\n",
    "        salt=salt,\n",
    "        length=32,\n",
    "        backend=default_backend()\n",
    "    )\n",
    "    key = kdf.derive(password.encode('utf-8'))\n",
    "    return key\n",
    "\n",
    "def pad_data(data):\n",
    "    padder = padding.PKCS7(128).padder()\n",
    "    padded_data = padder.update(data) + padder.finalize()\n",
    "    return padded_data\n",
    "\n",
    "def unpad_data(data):\n",
    "    unpadder = padding.PKCS7(128).unpadder()\n",
    "    unpadded_data = unpadder.update(data) + unpadder.finalize()\n",
    "    return unpadded_data\n",
    "\n",
    "import os\n",
    "\n",
    "def generate_random_iv():\n",
    "    return os.urandom(16)\n",
    "\n",
    "def encrypt_image(input_file, output_file, password):\n",
    "    salt = b'salt_'\n",
    "    key = generate_key_from_password(password, salt)\n",
    "    iv = generate_random_iv()\n",
    "    \n",
    "    with open(input_file, 'rb') as f:\n",
    "        image_data = f.read()\n",
    "    \n",
    "    padded_data = pad_data(image_data)\n",
    "    \n",
    "    cipher = Cipher(algorithms.AES(key), modes.CFB(iv), backend=default_backend())\n",
    "    encryptor = cipher.encryptor()\n",
    "    cipher_text = encryptor.update(padded_data) + encryptor.finalize()\n",
    "    \n",
    "    with open(output_file, 'wb') as f:\n",
    "        f.write(salt + iv + cipher_text)\n",
    "\n",
    "def decrypt_image(input_file, output_file, password):\n",
    "    with open(input_file, 'rb') as f:\n",
    "        data = f.read()\n",
    "    \n",
    "    salt = data[:5]\n",
    "    iv = data[5:21]  # IV is now 16 bytes long\n",
    "    cipher_text = data[21:]\n",
    "    \n",
    "    key = generate_key_from_password(password, salt)\n",
    "    \n",
    "    cipher = Cipher(algorithms.AES(key), modes.CFB(iv), backend=default_backend())\n",
    "    decryptor = cipher.decryptor()\n",
    "    padded_data = decryptor.update(cipher_text) + decryptor.finalize()\n",
    "    \n",
    "    image_data = unpad_data(padded_data)\n",
    "    \n",
    "    with open(output_file, 'wb') as f:\n",
    "        f.write(image_data)\n",
    "\n",
    "# Usage\n",
    "encrypt_image('persons/modi/1.jpeg', 'encrypted_image.jpg', 'password123')\n",
    "decrypt_image('encrypted_image.jpg', 'decrypted_image.jpg', 'password123')"
   ]
  }
 ],
 "metadata": {
  "kernelspec": {
   "display_name": "bdas",
   "language": "python",
   "name": "python3"
  },
  "language_info": {
   "codemirror_mode": {
    "name": "ipython",
    "version": 3
   },
   "file_extension": ".py",
   "mimetype": "text/x-python",
   "name": "python",
   "nbconvert_exporter": "python",
   "pygments_lexer": "ipython3",
   "version": "3.11.4"
  }
 },
 "nbformat": 4,
 "nbformat_minor": 2
}
